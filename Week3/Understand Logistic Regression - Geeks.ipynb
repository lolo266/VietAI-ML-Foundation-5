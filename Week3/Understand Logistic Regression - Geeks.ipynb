{
 "cells": [
  {
   "cell_type": "markdown",
   "metadata": {},
   "source": [
    "Link bài viết gốc trên `GeeksforGeeks`:\n",
    "\n",
    "https://www.geeksforgeeks.org/understanding-logistic-regression/"
   ]
  },
  {
   "cell_type": "code",
   "execution_count": 1,
   "metadata": {},
   "outputs": [],
   "source": [
    "import csv\n",
    "import numpy as np\n",
    "import matplotlib.pyplot as plt"
   ]
  },
  {
   "cell_type": "code",
   "execution_count": 2,
   "metadata": {},
   "outputs": [],
   "source": [
    "#Load dataset function\n",
    "def loadCSV(filename):\n",
    "    with open(filename, \"r\") as csvfile:\n",
    "        lines = csv.reader(csvfile)\n",
    "        dataset = list(lines)\n",
    "        \n",
    "        for i in range(len(dataset)):\n",
    "            dataset[i] =[float(x) for x in dataset[i]]\n",
    "            \n",
    "    return np.array(dataset)"
   ]
  },
  {
   "cell_type": "code",
   "execution_count": 3,
   "metadata": {},
   "outputs": [],
   "source": [
    "#function to normalize feature matrix, X\n",
    "def normalize(X):\n",
    "    mins = np.min(X)\n",
    "    maxs = np.max(X)\n",
    "    rng = maxs - mins\n",
    "    norm_X = 1 - ((maxs - X)/rng)\n",
    "    \n",
    "    return norm_X"
   ]
  },
  {
   "cell_type": "markdown",
   "metadata": {},
   "source": [
    "**Logistic(Sigmoid) Function**\n",
    "\n",
    "$$ h(x_i) = g(\\beta^Tx_i) = \\frac{1}{1 + e^{-\\beta^Tx_i}}$$"
   ]
  },
  {
   "cell_type": "code",
   "execution_count": 4,
   "metadata": {},
   "outputs": [],
   "source": [
    "#logistic(sigmoid) function\n",
    "def logistic_func(beta, X):\n",
    "    return 1. / (1. + np.exp(-np.dot(X, beta.T)))"
   ]
  },
  {
   "cell_type": "markdown",
   "metadata": {},
   "source": [
    "**Logistic Gradient**\n",
    "\n",
    "$$ LG = h(x^{(i)}) - y^{(i)}$$"
   ]
  },
  {
   "cell_type": "code",
   "execution_count": 5,
   "metadata": {},
   "outputs": [],
   "source": [
    "#logistic gradient function\n",
    "def log_gradient(beta, X, y):\n",
    "    first_calc = logistic_func(beta, X) - y.reshape(X.shape[0], -1)\n",
    "    final_calc = np.dot(first_calc.T, X)\n",
    "    \n",
    "    return final_calc"
   ]
  },
  {
   "cell_type": "markdown",
   "metadata": {},
   "source": [
    "**Cost function**\n",
    "\n",
    "$$ J(\\beta) = -\\frac{1}{m}\\sum^{m}_{i=1}[y_ilog(h(x_i)) + (1 - y_i)log(1 - h(x_i))] $$ "
   ]
  },
  {
   "cell_type": "code",
   "execution_count": 6,
   "metadata": {},
   "outputs": [],
   "source": [
    "#cost function\n",
    "def cost_func(beta, X, y):\n",
    "    log_func_v = logistic_func(beta, X)\n",
    "    y = np.squeeze(y)\n",
    "    \n",
    "    step1 = y*np.log(log_func_v)\n",
    "    step2 = (1 - y)*np.log(1 - log_func_v)\n",
    "    \n",
    "    final = -(step1 + step2)\n",
    "    \n",
    "    return np.mean(final)"
   ]
  },
  {
   "cell_type": "markdown",
   "metadata": {},
   "source": [
    "**Gradient Descent function**\n",
    "\n",
    "$$ \\frac{\\partial J(\\beta)}{\\partial \\beta_j} = (h(x) - y)x_j$$\n",
    "\n",
    "Repeat{\n",
    "\n",
    "$$ \\beta_j := \\beta_j - \\alpha\\sum^n_{i=1}(h(x_i)-y_i)x_ij$$\n",
    "(Simultaneously update all $\\beta_j$)\n",
    "\n",
    "}"
   ]
  },
  {
   "cell_type": "code",
   "execution_count": 7,
   "metadata": {},
   "outputs": [],
   "source": [
    "def grad_desc(X, y, beta, lr = .01, converge_change=.001):\n",
    "    cost = cost_func(beta, X, y)\n",
    "    change_cost = 1\n",
    "    num_iter = 1\n",
    "    \n",
    "    while(change_cost > converge_change):\n",
    "        old_cost = cost\n",
    "        beta = beta - (lr*log_gradient(beta, X, y))\n",
    "        cost = cost_func(beta, X, y)\n",
    "        change_cost = old_cost - cost\n",
    "        num_iter += 1\n",
    "        \n",
    "    return beta, num_iter"
   ]
  },
  {
   "cell_type": "code",
   "execution_count": 8,
   "metadata": {},
   "outputs": [],
   "source": [
    "#function to predict labels\n",
    "def pred_values(beta, X):\n",
    "    pred_prob = logistic_func(beta, X)\n",
    "    pred_value = np.where(pred_prob >= .5, 1, 0)\n",
    "    \n",
    "    return np.squeeze(pred_value)#loai bo cac muc mot chieu"
   ]
  },
  {
   "cell_type": "code",
   "execution_count": 9,
   "metadata": {},
   "outputs": [],
   "source": [
    "#function to plot decision boundary\n",
    "def plot_reg(X, y, beta):\n",
    "    \n",
    "    #labelled observations\n",
    "    x_0 = X[np.where(y == 0.0)]\n",
    "    x_1 = X[np.where(y == 1.0)]\n",
    "    \n",
    "    #plotting points with diff color for diff label\n",
    "    plt.scatter([x_0[:, 1]], [x_0[:, 2]], c='b', label='y = 0')\n",
    "    plt.scatter([x_1[:, 1]], [x_1[:, 2]], c='r', label='y = 1')\n",
    "    \n",
    "    #plotting decision boundary\n",
    "    x1 = np.arange(0, 1, 0.1)\n",
    "    x2 = -(beta[0,0] + beta[0,1]*x1)/beta[0,2]\n",
    "    plt.plot(x1, x2, c='k', label='reg line')\n",
    "    \n",
    "    plt.xlabel('x1')\n",
    "    plt.ylabel('x2')\n",
    "    plt.legend()\n",
    "    \n",
    "    plt.show()"
   ]
  },
  {
   "cell_type": "code",
   "execution_count": 10,
   "metadata": {},
   "outputs": [
    {
     "name": "stdout",
     "output_type": "stream",
     "text": [
      "Estimated regression coefficients:  [[  2.34124157  14.77261481 -21.66598334]]\n",
      "No. of interations:  2720\n",
      "correctly predicted labels:  100\n"
     ]
    },
    {
     "data": {
      "image/png": "[encoded data removed]",
      "text/plain": [
       "<Figure size 432x288 with 1 Axes>"
      ]
     },
     "metadata": {
      "needs_background": "light"
     },
     "output_type": "display_data"
    }
   ],
   "source": [
    "#main function\n",
    "\n",
    "if __name__ == \"__main__\":\n",
    "    #load the dataset\n",
    "    dataset = loadCSV('data/dataset1.csv')\n",
    "    \n",
    "    #normalizing feature matrix\n",
    "    X = normalize(dataset[:, :-1])\n",
    "    \n",
    "    #stacking columns wit all ones in feature matrix\n",
    "    X = np.hstack((np.matrix(np.ones(X.shape[0])).T, X))\n",
    "    \n",
    "    #response vector\n",
    "    y = dataset[:, -1]\n",
    "    \n",
    "    #init beta values\n",
    "    beta = np.matrix(np.zeros(X.shape[1]))\n",
    "    \n",
    "    #beta values after running gradient descent\n",
    "    beta, num_iter = grad_desc(X, y, beta) \n",
    "    \n",
    "    #sestimated beta values and number of interations\n",
    "    print('Estimated regression coefficients: ', beta)\n",
    "    print('No. of interations: ', num_iter)\n",
    "    \n",
    "    #predicted_labels\n",
    "    y_pred = pred_values(beta, X)\n",
    "    \n",
    "    #number of correctly predicted labels\n",
    "    print('correctly predicted labels: ', np.sum(y == y_pred))\n",
    "    \n",
    "    #plotting regression line\n",
    "    plot_reg(X, y, beta)"
   ]
  },
  {
   "cell_type": "code",
   "execution_count": null,
   "metadata": {},
   "outputs": [],
   "source": []
  }
 ],
 "metadata": {
  "kernelspec": {
   "display_name": "Python 3",
   "language": "python",
   "name": "python3"
  },
  "language_info": {
   "codemirror_mode": {
    "name": "ipython",
    "version": 3
   },
   "file_extension": ".py",
   "mimetype": "text/x-python",
   "name": "python",
   "nbconvert_exporter": "python",
   "pygments_lexer": "ipython3",
   "version": "3.7.3"
  }
 },
 "nbformat": 4,
 "nbformat_minor": 2
}
