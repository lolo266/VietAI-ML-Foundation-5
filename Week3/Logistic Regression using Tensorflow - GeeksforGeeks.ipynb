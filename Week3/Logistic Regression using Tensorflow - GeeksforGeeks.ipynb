{
 "cells": [
  {
   "cell_type": "markdown",
   "metadata": {},
   "source": [
    "# Logistic Regression using Tensorflow"
   ]
  },
  {
   "cell_type": "markdown",
   "metadata": {},
   "source": [
    "_Xem thêm bài viết gốc tại GeeksforGeeks:_\n",
    "\n",
    "https://www.geeksforgeeks.org/ml-logistic-regression-using-tensorflow/"
   ]
  },
  {
   "cell_type": "code",
   "execution_count": 1,
   "metadata": {},
   "outputs": [],
   "source": [
    "import numpy as np\n",
    "import pandas as pd\n",
    "import tensorflow as tf\n",
    "import matplotlib.pyplot as plt\n",
    "from sklearn.preprocessing import OneHotEncoder"
   ]
  },
  {
   "cell_type": "code",
   "execution_count": 2,
   "metadata": {},
   "outputs": [
    {
     "name": "stdout",
     "output_type": "stream",
     "text": [
      "(100, 4)\n",
      "   0    1    2  3\n",
      "0  0  5.1  3.5  1\n",
      "1  1  4.9  3.0  1\n",
      "2  2  4.7  3.2  1\n",
      "3  3  4.6  3.1  1\n",
      "4  4  5.0  3.6  1\n"
     ]
    }
   ],
   "source": [
    "#load dataset\n",
    "data = pd.read_csv('data/dataset.csv', header=None)\n",
    "print(data.shape)\n",
    "print(data.head(5))"
   ]
  },
  {
   "cell_type": "code",
   "execution_count": 3,
   "metadata": {},
   "outputs": [
    {
     "name": "stdout",
     "output_type": "stream",
     "text": [
      "(100, 2)\n",
      "[[5.1 3.5]\n",
      " [4.9 3. ]\n",
      " [4.7 3.2]\n",
      " [4.6 3.1]\n",
      " [5.  3.6]]\n",
      "(100, 1)\n",
      "[[1]\n",
      " [1]\n",
      " [1]\n",
      " [1]\n",
      " [1]]\n"
     ]
    }
   ],
   "source": [
    "#feature matrix\n",
    "x_orig = data.iloc[:, 1:-1].values\n",
    "print(x_orig.shape)\n",
    "print(x_orig[:5])\n",
    "\n",
    "#data labels\n",
    "y_orig = data.iloc[:, -1:].values\n",
    "print(y_orig.shape)\n",
    "print(y_orig[:5])\n"
   ]
  },
  {
   "cell_type": "code",
   "execution_count": 4,
   "metadata": {},
   "outputs": [
    {
     "data": {
      "image/png": "[encoded data removed]",
      "text/plain": [
       "<Figure size 432x288 with 1 Axes>"
      ]
     },
     "metadata": {
      "needs_background": "light"
     },
     "output_type": "display_data"
    }
   ],
   "source": [
    "#positive data points\n",
    "x_pos = np.array([x_orig[i] for i in range(len(x_orig)) if y_orig[i] ==1])\n",
    "\n",
    "#negative data points\n",
    "x_neg = np.array([x_orig[i] for i in range(len(x_orig)) if y_orig[i] == 0])\n",
    "\n",
    "#plotting the Positive data points\n",
    "plt.scatter(x_pos[:, 0], x_pos[:, 1], c='b', label = 'Positive')\n",
    "plt.scatter(x_neg[:, 0], x_neg[:, 1], c='r', label = 'Negative')\n",
    "\n",
    "plt.xlabel('Feature 1')\n",
    "plt.ylabel('Feature 2')\n",
    "plt.title('Plot of given data')\n",
    "plt.legend()\n",
    "\n",
    "plt.show()"
   ]
  },
  {
   "cell_type": "code",
   "execution_count": 5,
   "metadata": {},
   "outputs": [
    {
     "name": "stderr",
     "output_type": "stream",
     "text": [
      "C:\\Users\\Thinkpad T470s\\Anaconda3\\lib\\site-packages\\sklearn\\preprocessing\\_encoders.py:415: FutureWarning: The handling of integer data will change in version 0.22. Currently, the categories are determined based on the range [0, max(values)], while in the future they will be determined based on the unique values.\n",
      "If you want the future behaviour and silence this warning, you can specify \"categories='auto'\".\n",
      "In case you used a LabelEncoder before this OneHotEncoder to convert the categories to integers, then you can now use the OneHotEncoder directly.\n",
      "  warnings.warn(msg, FutureWarning)\n",
      "C:\\Users\\Thinkpad T470s\\Anaconda3\\lib\\site-packages\\sklearn\\preprocessing\\_encoders.py:415: FutureWarning: The handling of integer data will change in version 0.22. Currently, the categories are determined based on the range [0, max(values)], while in the future they will be determined based on the unique values.\n",
      "If you want the future behaviour and silence this warning, you can specify \"categories='auto'\".\n",
      "In case you used a LabelEncoder before this OneHotEncoder to convert the categories to integers, then you can now use the OneHotEncoder directly.\n",
      "  warnings.warn(msg, FutureWarning)\n"
     ]
    }
   ],
   "source": [
    "#Create the One Hot Encoder\n",
    "oneHot = OneHotEncoder()\n",
    "\n",
    "#Encoding x_orig\n",
    "oneHot.fit(x_orig)\n",
    "x = oneHot.transform(x_orig).toarray()\n",
    "\n",
    "#Encoding y_orig\n",
    "oneHot.fit(y_orig)\n",
    "y = oneHot.transform(y_orig).toarray()"
   ]
  },
  {
   "cell_type": "code",
   "execution_count": 6,
   "metadata": {},
   "outputs": [
    {
     "name": "stdout",
     "output_type": "stream",
     "text": [
      "100 7\n",
      "Learning rate =  0.0035\n",
      "Number of Epochs =  500\n"
     ]
    }
   ],
   "source": [
    "alpha, epochs =0.0035, 500\n",
    "m, n = x.shape\n",
    "\n",
    "print(m,n)\n",
    "print('Learning rate = ', alpha)\n",
    "print('Number of Epochs = ', epochs)"
   ]
  },
  {
   "cell_type": "code",
   "execution_count": 7,
   "metadata": {},
   "outputs": [],
   "source": [
    "#using tensorflow \n",
    "#There are n cloumns in the feature matrix\n",
    "#after one hot encoder\n",
    "X = tf.placeholder(tf.float32, [None, n])\n",
    "\n",
    "#Since this is a binary classification problem, \n",
    "#Y can take only 2 values\n",
    "Y = tf.placeholder(tf.float32, [None, 2])\n",
    "\n",
    "#trainable variable weights\n",
    "W = tf.Variable(tf.zeros([n, 2]))\n",
    "\n",
    "#trainable variable bias\n",
    "b = tf.Variable(tf.zeros([2]))"
   ]
  },
  {
   "cell_type": "code",
   "execution_count": 8,
   "metadata": {},
   "outputs": [
    {
     "name": "stderr",
     "output_type": "stream",
     "text": [
      "WARNING: Logging before flag parsing goes to stderr.\n",
      "W0907 23:04:27.751807 14820 deprecation.py:323] From C:\\Users\\Thinkpad T470s\\Anaconda3\\lib\\site-packages\\tensorflow\\python\\ops\\nn_impl.py:180: add_dispatch_support.<locals>.wrapper (from tensorflow.python.ops.array_ops) is deprecated and will be removed in a future version.\n",
      "Instructions for updating:\n",
      "Use tf.where in 2.0, which has the same broadcast rule as np.where\n"
     ]
    }
   ],
   "source": [
    "#hypothesis\n",
    "Y_hat = tf.nn.sigmoid(tf.add(tf.matmul(X, W), b))\n",
    "\n",
    "#sigmoid cross entropy cost function\n",
    "cost = tf.nn.sigmoid_cross_entropy_with_logits(logits = Y_hat, labels = Y)\n",
    "\n",
    "#gradient descent optimizer\n",
    "optimizer = tf.train.GradientDescentOptimizer(learning_rate=alpha).minimize(cost)\n",
    "\n",
    "#global variables initializer\n",
    "init = tf.global_variables_initializer()"
   ]
  },
  {
   "cell_type": "code",
   "execution_count": 9,
   "metadata": {},
   "outputs": [
    {
     "name": "stdout",
     "output_type": "stream",
     "text": [
      "Epoch 100\tCost = 125.70020294189453\n",
      "Epoch 200\tCost = 120.6471176147461\n",
      "Epoch 300\tCost = 118.15159225463867\n",
      "Epoch 400\tCost = 116.54999923706055\n",
      "\n",
      "Accuracy =  91.00000262260437 %\n"
     ]
    }
   ],
   "source": [
    "#Starting the Tensorflow Session\n",
    "with tf.Session() as sess:\n",
    "    \n",
    "    #initializing the variables\n",
    "    sess.run(init)\n",
    "    \n",
    "    #lists for storing the changing Cost and Accuracy in every Epoch\n",
    "    cost_history, accuracy_history = [], []\n",
    "    \n",
    "    #iterating through all the epochs\n",
    "    for epoch in range(epochs):\n",
    "        cost_per_epoch = 0\n",
    "        \n",
    "        #running the optimizer\n",
    "        sess.run(optimizer, feed_dict = {X: x, Y: y})\n",
    "        \n",
    "        #calculating cost on current epoch\n",
    "        c = sess.run(cost, feed_dict = {X: x, Y: y})\n",
    "        \n",
    "        #calculating accuracy on current epoch\n",
    "        correct_prediction = tf.equal(tf.argmax(Y_hat, 1), tf.argmax(Y,1))\n",
    "        accuracy = tf.reduce_mean(tf.cast(correct_prediction, tf.float32))\n",
    "        \n",
    "        #storing cost and accuracy to the history\n",
    "        cost_history.append(sum(sum(c)))\n",
    "        accuracy_history.append(accuracy.eval({X : x, Y : y}) * 100)\n",
    "        \n",
    "        #Displaying result on curent epoch\n",
    "        if epoch % 100 == 0 and epoch != 0:\n",
    "            print('Epoch '+str(epoch) + '\\tCost = ' +str(cost_history[-1]))\n",
    "    \n",
    "    Weight = sess.run(W) #Optimizer Weight\n",
    "    Bias = sess.run(b)   #Optimizer Bias\n",
    "    \n",
    "    #Final Accuracy\n",
    "    correct_prediction = tf.equal(tf.argmax(Y_hat, 1), tf.argmax(Y, 1))\n",
    "    accuracy = tf.reduce_mean(tf.cast(correct_prediction, tf.float32))\n",
    "    \n",
    "    print('\\nAccuracy = ', accuracy_history[-1], '%')"
   ]
  },
  {
   "cell_type": "code",
   "execution_count": 10,
   "metadata": {},
   "outputs": [
    {
     "data": {
      "image/png": "[encoded data removed]",
      "text/plain": [
       "<Figure size 432x288 with 1 Axes>"
      ]
     },
     "metadata": {
      "needs_background": "light"
     },
     "output_type": "display_data"
    }
   ],
   "source": [
    "#plotting the change of cost over the epochs\n",
    "plt.plot(list(range(epochs)), cost_history)\n",
    "plt.xlabel('Epochs')\n",
    "plt.ylabel('Cost')\n",
    "plt.title('Decrease in Cost with Epochs')\n",
    "\n",
    "plt.show()"
   ]
  },
  {
   "cell_type": "code",
   "execution_count": 11,
   "metadata": {},
   "outputs": [
    {
     "data": {
      "image/png": "[encoded data removed]",
      "text/plain": [
       "<Figure size 432x288 with 1 Axes>"
      ]
     },
     "metadata": {
      "needs_background": "light"
     },
     "output_type": "display_data"
    }
   ],
   "source": [
    "#plotting the change of accuracy over the epochs\n",
    "plt.plot(list(range(epochs)), accuracy_history)\n",
    "plt.xlabel('Epochs')\n",
    "plt.ylabel('Accuracy')\n",
    "plt.title('Increase in Accuracy with Epochs')\n",
    "\n",
    "plt.show()"
   ]
  },
  {
   "cell_type": "code",
   "execution_count": 12,
   "metadata": {},
   "outputs": [
    {
     "data": {
      "image/png": "[encoded data removed]",
      "text/plain": [
       "<Figure size 432x288 with 1 Axes>"
      ]
     },
     "metadata": {
      "needs_background": "light"
     },
     "output_type": "display_data"
    }
   ],
   "source": [
    "#Plotting the Decision Boundary\n",
    "decision_boundary_x = np.array([np.min(x_orig[:, 0]), np.max(x_orig[:, 0])])\n",
    "decision_boundary_y = (-1. / Weight[0])*(decision_boundary_x * Weight + Bias)\n",
    "decision_boundary_y = [sum(decision_boundary_y[:, 0]), sum(decision_boundary_y[:, 1])]\n",
    "\n",
    "#Positive data points\n",
    "x_pos = np.array([x_orig[i] for i in range(len(x_orig)) if y_orig[i] == 1])\n",
    "\n",
    "#Negative data points\n",
    "x_neg = np.array([x_orig[i] for i in range(len(x_orig)) if y_orig[i] == 0])\n",
    "\n",
    "#Plotting the positive data point\n",
    "plt.scatter(x_pos[:, 0], x_pos[:, 1], c='b', label ='Positive')\n",
    "\n",
    "#Plotting the negative data point\n",
    "plt.scatter(x_neg[:, 0], x_neg[:, 1], c='r', label ='Negative')\n",
    "\n",
    "#plotting the Decision Boundary\n",
    "plt.plot(decision_boundary_x, decision_boundary_y)\n",
    "plt.xlabel('Feature 1')\n",
    "plt.ylabel('Feature 2')\n",
    "plt.title('Plot of Decision Boundary')\n",
    "plt.legend()\n",
    "\n",
    "plt.show()"
   ]
  }
 ],
 "metadata": {
  "kernelspec": {
   "display_name": "Python 3",
   "language": "python",
   "name": "python3"
  },
  "language_info": {
   "codemirror_mode": {
    "name": "ipython",
    "version": 3
   },
   "file_extension": ".py",
   "mimetype": "text/x-python",
   "name": "python",
   "nbconvert_exporter": "python",
   "pygments_lexer": "ipython3",
   "version": "3.7.3"
  }
 },
 "nbformat": 4,
 "nbformat_minor": 2
}
