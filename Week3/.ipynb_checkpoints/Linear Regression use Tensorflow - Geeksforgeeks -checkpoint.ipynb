{
 "cells": [
  {
   "cell_type": "markdown",
   "metadata": {},
   "source": [
    "# Linear Regression Using Tensorflow"
   ]
  },
  {
   "attachments": {},
   "cell_type": "markdown",
   "metadata": {},
   "source": [
    "### Summary of Linear Regression\n",
    "\n",
    "Linear Regression is a very common statistical method that allows us to learn a function or relationship from a given set of continuous data. For example, we are given some data points of x and corresponding y and we need to learn the relationship between them that is called a hypothesis.\n",
    "\n",
    "In case of Linear regression, the hypothesis is a straight line, i.e,\n",
    "$$ h(x) = wx + b$$ \n",
    "Where w is a vector called Weights and b is a scalar called Bias. The Weights and Bias are called the parameters of the model.\n",
    "\n",
    "All we need to do is estimate the value of w and b from the given set of data such that the resultant hypothesis produces the least cost J which is defined by the following cost function\n",
    "$$J(w, b) = \\frac{1}{2m} \\sum_{i=1}^{m} (y_i - h(x_i)) ^ 2 $$\n",
    "where m is the number of data points in the given dataset. This cost function is also called Mean Squared Error.\n",
    "\n",
    "For finding the optimized value of the parameters for which J is minimum, we will be using a commonly used optimizer algorithm called Gradient Descent. Following is the pseudo-code for Gradient Descent:\n",
    "\n",
    "Repeat untill Convergence {\n",
    "    $$ w = w - \\alpha \\frac{\\delta J}{\\delta w}$$\n",
    "    $$ b = b - \\alpha \\frac{\\delta J}{\\delta b}$$\n",
    "}\n",
    "\n",
    "where $\\alpha$ is a `hyperparameter` called the `Learning Rate`."
   ]
  },
  {
   "cell_type": "code",
   "execution_count": 25,
   "metadata": {},
   "outputs": [],
   "source": [
    "import numpy as np\n",
    "import tensorflow as tf\n",
    "import matplotlib.pyplot as plt"
   ]
  },
  {
   "cell_type": "markdown",
   "metadata": {},
   "source": [
    "In order to make the random numbers predictable, we will define fixed seeds for both Numpy and Tensorflow."
   ]
  },
  {
   "cell_type": "code",
   "execution_count": 26,
   "metadata": {},
   "outputs": [],
   "source": [
    "np.random.seed(101)\n",
    "tf.set_random_seed(101)"
   ]
  },
  {
   "cell_type": "code",
   "execution_count": 27,
   "metadata": {},
   "outputs": [],
   "source": [
    "#Generating random linear data\n",
    "#There will be 50 data points ranging from 0 to 50\n",
    "x = np.linspace(0, 50, 50)\n",
    "y = np.linspace(0, 50, 50)\n",
    "\n",
    "#Adding noise to the random linear data\n",
    "x += np.random.uniform(-4, 4, 50)\n",
    "y += np.random.uniform(-4, 4, 50)\n",
    "\n",
    "n = len(x) #Number of data points"
   ]
  },
  {
   "cell_type": "markdown",
   "metadata": {},
   "source": [
    "Let us visualize the training data."
   ]
  },
  {
   "cell_type": "code",
   "execution_count": 28,
   "metadata": {},
   "outputs": [
    {
     "data": {
      "image/png": "[encoded data removed]",
      "text/plain": [
       "<Figure size 432x288 with 1 Axes>"
      ]
     },
     "metadata": {
      "needs_background": "light"
     },
     "output_type": "display_data"
    }
   ],
   "source": [
    "#Plot of Training data\n",
    "plt.scatter(x,y)\n",
    "plt.xlabel('x')\n",
    "plt.ylabel('y')\n",
    "plt.title('Training Data')\n",
    "plt.show()"
   ]
  },
  {
   "cell_type": "markdown",
   "metadata": {},
   "source": [
    "Creating our model by defining the `placeholders` `X` and `Y`, so that we can feed our `training examples` `X` and `Y` into the `optimizer` during the training process."
   ]
  },
  {
   "cell_type": "code",
   "execution_count": 29,
   "metadata": {},
   "outputs": [],
   "source": [
    "X = tf.placeholder(dtype=tf.float32, name='X')\n",
    "Y = tf.placeholder(dtype=tf.float32, name='Y')"
   ]
  },
  {
   "cell_type": "markdown",
   "metadata": {},
   "source": [
    "Declaring two trainable Tensorflow Variables for the Weights and Bias and initializing them randomly using `np.random.randn()`."
   ]
  },
  {
   "cell_type": "code",
   "execution_count": 30,
   "metadata": {},
   "outputs": [],
   "source": [
    "W = tf.Variable(np.random.randn(), name='W')\n",
    "b = tf.Variable(np.random.randn(), name='b')"
   ]
  },
  {
   "cell_type": "markdown",
   "metadata": {},
   "source": [
    "Defining the hyperparameters of the model, the Learning Rate and the number of Epochs."
   ]
  },
  {
   "cell_type": "code",
   "execution_count": 31,
   "metadata": {},
   "outputs": [],
   "source": [
    "learning_rate = 0.01\n",
    "training_epochs = 1000"
   ]
  },
  {
   "cell_type": "markdown",
   "metadata": {},
   "source": [
    "Now, we will be building the Hypothesis, the Cost Function, and the Optimizer. We won’t be implementing the Gradient Descent Optimizer manually since it is built inside Tensorflow. After that, we will be initializing the Variables."
   ]
  },
  {
   "cell_type": "code",
   "execution_count": 32,
   "metadata": {},
   "outputs": [],
   "source": [
    "# Hypothesis \n",
    "y_pred = tf.add(tf.multiply(X, W), b) \n",
    "  \n",
    "# Mean Squared Error Cost Function \n",
    "cost = tf.reduce_sum(tf.pow(y_pred-Y, 2)) / (2 * n) \n",
    "  \n",
    "# Gradient Descent Optimizer \n",
    "optimizer = tf.train.GradientDescentOptimizer(learning_rate).minimize(cost) \n",
    "  \n",
    "# Global Variables Initializer \n",
    "init = tf.global_variables_initializer() "
   ]
  },
  {
   "cell_type": "markdown",
   "metadata": {},
   "source": [
    "Now we will begin the training process inside a Tensorflow Session"
   ]
  },
  {
   "cell_type": "code",
   "execution_count": 38,
   "metadata": {},
   "outputs": [
    {
     "name": "stdout",
     "output_type": "stream",
     "text": [
      "Epoch 100 : cost = 5.79127 \n",
      "\tW = 0.99812365 \n",
      "\tb = 1.0914395\n",
      "Epoch 200 : cost = 5.6459417 \n",
      "\tW = 1.0031956 \n",
      "\tb = 0.84343934\n",
      "Epoch 300 : cost = 5.544608 \n",
      "\tW = 1.007242 \n",
      "\tb = 0.6455921\n",
      "Epoch 400 : cost = 5.473066 \n",
      "\tW = 1.01047 \n",
      "\tb = 0.48775342\n",
      "Epoch 500 : cost = 5.421903 \n",
      "\tW = 1.0130452 \n",
      "\tb = 0.36183482\n",
      "Epoch 600 : cost = 5.384856 \n",
      "\tW = 1.0150996 \n",
      "\tb = 0.2613811\n",
      "Epoch 700 : cost = 5.3576994 \n",
      "\tW = 1.0167387 \n",
      "\tb = 0.18124203\n",
      "Epoch 800 : cost = 5.337558 \n",
      "\tW = 1.0180461 \n",
      "\tb = 0.11730931\n",
      "Epoch 900 : cost = 5.322459 \n",
      "\tW = 1.0190892 \n",
      "\tb = 0.06630575\n",
      "Epoch 1000 : cost = 5.3110332 \n",
      "\tW = 1.0199214 \n",
      "\tb = 0.02561658\n"
     ]
    }
   ],
   "source": [
    "# Starting the Tensorflow Session \n",
    "with tf.Session() as sess: \n",
    "      \n",
    "    # Initializing the Variables \n",
    "    sess.run(init) \n",
    "      \n",
    "    # Iterating through all the epochs \n",
    "    for epoch in range(training_epochs): \n",
    "          \n",
    "        # Feeding each data point into the optimizer using Feed Dictionary \n",
    "        for (_x, _y) in zip(x, y): \n",
    "            sess.run(optimizer, feed_dict = {X : _x, Y : _y}) \n",
    "          \n",
    "        # Displaying the result after every 100 epochs \n",
    "        if (epoch + 1) % 100 == 0: \n",
    "            # Calculating the cost a every epoch \n",
    "            c = sess.run(cost, feed_dict = {X : x, Y : y}) \n",
    "            print(\"Epoch\", (epoch + 1), \": cost =\", c, \"\\n\\tW =\", sess.run(W), \"\\n\\tb =\", sess.run(b)) \n",
    "      \n",
    "    # Storing necessary values to be used outside the Session \n",
    "    training_cost = sess.run(cost, feed_dict ={X: x, Y: y}) \n",
    "    weight = sess.run(W) \n",
    "    bias = sess.run(b) "
   ]
  },
  {
   "cell_type": "markdown",
   "metadata": {},
   "source": [
    "Now let us look at the result."
   ]
  },
  {
   "cell_type": "code",
   "execution_count": 34,
   "metadata": {},
   "outputs": [
    {
     "name": "stdout",
     "output_type": "stream",
     "text": [
      "Training cost =  5.3110332 \n",
      "Weight =  1.0199214 \n",
      "bias =  0.02561658 \n",
      "\n"
     ]
    }
   ],
   "source": [
    "#Calculating the predictions\n",
    "predictions = weight*x + bias\n",
    "print(\"Training cost = \", training_cost,\n",
    "      \"\\nWeight = \", weight,\n",
    "      \"\\nbias = \", bias, '\\n')"
   ]
  },
  {
   "cell_type": "markdown",
   "metadata": {},
   "source": [
    "Finally, we will plot our result."
   ]
  },
  {
   "cell_type": "code",
   "execution_count": 36,
   "metadata": {},
   "outputs": [
    {
     "data": {
      "image/png": "[encoded data removed]",
      "text/plain": [
       "<Figure size 432x288 with 1 Axes>"
      ]
     },
     "metadata": {
      "needs_background": "light"
     },
     "output_type": "display_data"
    }
   ],
   "source": [
    "#Ploting the Results\n",
    "plt.plot(x,y,'ro', label='Original data')\n",
    "plt.plot(x, predictions, label='Fitted line')\n",
    "plt.title('Linear Regression  Result')\n",
    "plt.legend()\n",
    "plt.show()"
   ]
  },
  {
   "cell_type": "markdown",
   "metadata": {},
   "source": [
    "#### Link original document:\n",
    "https://www.geeksforgeeks.org/linear-regression-using-tensorflow/"
   ]
  },
  {
   "cell_type": "code",
   "execution_count": null,
   "metadata": {},
   "outputs": [],
   "source": []
  }
 ],
 "metadata": {
  "kernelspec": {
   "display_name": "Python 3",
   "language": "python",
   "name": "python3"
  },
  "language_info": {
   "codemirror_mode": {
    "name": "ipython",
    "version": 3
   },
   "file_extension": ".py",
   "mimetype": "text/x-python",
   "name": "python",
   "nbconvert_exporter": "python",
   "pygments_lexer": "ipython3",
   "version": "3.7.3"
  }
 },
 "nbformat": 4,
 "nbformat_minor": 2
}
