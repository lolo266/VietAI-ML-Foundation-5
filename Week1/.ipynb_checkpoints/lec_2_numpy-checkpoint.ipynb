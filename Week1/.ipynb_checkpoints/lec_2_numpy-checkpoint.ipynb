{
 "cells": [
  {
   "cell_type": "code",
   "execution_count": 0,
   "metadata": {
    "colab": {},
    "colab_type": "code",
    "id": "WjlwX3WiXAsd"
   },
   "outputs": [],
   "source": [
    "import numpy as np"
   ]
  },
  {
   "cell_type": "markdown",
   "metadata": {
    "colab_type": "text",
    "id": "ASGKGqo4ZToJ"
   },
   "source": [
    "## Khởi tạo"
   ]
  },
  {
   "cell_type": "markdown",
   "metadata": {
    "colab_type": "text",
    "id": "ONFlLXg8Zkhd"
   },
   "source": [
    "#### Mảng một chiều"
   ]
  },
  {
   "cell_type": "code",
   "execution_count": 1,
   "metadata": {
    "colab": {},
    "colab_type": "code",
    "id": "to1pxmM0X_9c"
   },
   "outputs": [
    {
     "ename": "NameError",
     "evalue": "name 'np' is not defined",
     "output_type": "error",
     "traceback": [
      "\u001b[0;31m---------------------------------------------------------------------------\u001b[0m",
      "\u001b[0;31mNameError\u001b[0m                                 Traceback (most recent call last)",
      "\u001b[0;32m<ipython-input-1-027321bb7214>\u001b[0m in \u001b[0;36m<module>\u001b[0;34m\u001b[0m\n\u001b[0;32m----> 1\u001b[0;31m \u001b[0mnumber_vector\u001b[0m \u001b[0;34m=\u001b[0m \u001b[0mnp\u001b[0m\u001b[0;34m.\u001b[0m\u001b[0marray\u001b[0m\u001b[0;34m(\u001b[0m\u001b[0;34m[\u001b[0m\u001b[0;36m1\u001b[0m\u001b[0;34m,\u001b[0m \u001b[0;36m2\u001b[0m\u001b[0;34m,\u001b[0m \u001b[0;36m3\u001b[0m\u001b[0;34m]\u001b[0m\u001b[0;34m,\u001b[0m \u001b[0mdtype\u001b[0m\u001b[0;34m=\u001b[0m\u001b[0mnp\u001b[0m\u001b[0;34m.\u001b[0m\u001b[0mint32\u001b[0m\u001b[0;34m)\u001b[0m\u001b[0;34m\u001b[0m\u001b[0;34m\u001b[0m\u001b[0m\n\u001b[0m",
      "\u001b[0;31mNameError\u001b[0m: name 'np' is not defined"
     ]
    }
   ],
   "source": [
    "import numpy ás \n",
    "number_vector = np.array([1, 2, 3], dtype=np.int32)"
   ]
  },
  {
   "cell_type": "code",
   "execution_count": 2,
   "metadata": {
    "colab": {},
    "colab_type": "code",
    "id": "6rbUbb7qyETX"
   },
   "outputs": [
    {
     "ename": "NameError",
     "evalue": "name 'number_vector' is not defined",
     "output_type": "error",
     "traceback": [
      "\u001b[0;31m---------------------------------------------------------------------------\u001b[0m",
      "\u001b[0;31mNameError\u001b[0m                                 Traceback (most recent call last)",
      "\u001b[0;32m<ipython-input-2-372de26bcd8a>\u001b[0m in \u001b[0;36m<module>\u001b[0;34m\u001b[0m\n\u001b[0;32m----> 1\u001b[0;31m \u001b[0mnumber_vector\u001b[0m\u001b[0;34m.\u001b[0m\u001b[0mdtype\u001b[0m\u001b[0;34m\u001b[0m\u001b[0;34m\u001b[0m\u001b[0m\n\u001b[0m",
      "\u001b[0;31mNameError\u001b[0m: name 'number_vector' is not defined"
     ]
    }
   ],
   "source": [
    "number_vector.dtype"
   ]
  },
  {
   "cell_type": "code",
   "execution_count": 0,
   "metadata": {
    "colab": {},
    "colab_type": "code",
    "id": "a_wSAzxSvjT7"
   },
   "outputs": [],
   "source": [
    "number_vector"
   ]
  },
  {
   "cell_type": "code",
   "execution_count": 0,
   "metadata": {
    "colab": {},
    "colab_type": "code",
    "id": "v6uFh_z_ZeMa"
   },
   "outputs": [],
   "source": [
    "number_vector.shape"
   ]
  },
  {
   "cell_type": "markdown",
   "metadata": {
    "colab_type": "text",
    "id": "_mj8wRSLZoOl"
   },
   "source": [
    "#### Mảng hai chiều"
   ]
  },
  {
   "cell_type": "code",
   "execution_count": 0,
   "metadata": {
    "colab": {},
    "colab_type": "code",
    "id": "EivPqBOcZh8l"
   },
   "outputs": [],
   "source": [
    "number_matrix = np.array([[1, 2, 3], [4, 5, 6]])"
   ]
  },
  {
   "cell_type": "code",
   "execution_count": 0,
   "metadata": {
    "colab": {},
    "colab_type": "code",
    "id": "K21dyOX_ZrcG"
   },
   "outputs": [],
   "source": [
    "number_matrix"
   ]
  },
  {
   "cell_type": "code",
   "execution_count": 0,
   "metadata": {
    "colab": {},
    "colab_type": "code",
    "id": "FmkOWVz6ZuDS"
   },
   "outputs": [],
   "source": [
    "number_matrix.shape"
   ]
  },
  {
   "cell_type": "markdown",
   "metadata": {
    "colab_type": "text",
    "id": "9gB6tC7tZyP2"
   },
   "source": [
    "#### Mảng với giá trị đặc biệt"
   ]
  },
  {
   "cell_type": "code",
   "execution_count": 0,
   "metadata": {
    "colab": {},
    "colab_type": "code",
    "id": "EpOqhLyAZvXw"
   },
   "outputs": [],
   "source": [
    "number_1D_zeros = np.zeros((7, ))\n",
    "number_1D_zeros"
   ]
  },
  {
   "cell_type": "code",
   "execution_count": 0,
   "metadata": {
    "colab": {},
    "colab_type": "code",
    "id": "4EOq9IRZaBhq"
   },
   "outputs": [],
   "source": [
    "number_1D_sevens = np.full((6, ), 7)\n",
    "number_1D_sevens"
   ]
  },
  {
   "cell_type": "code",
   "execution_count": 0,
   "metadata": {
    "colab": {},
    "colab_type": "code",
    "id": "hfjCIcpQaCkq"
   },
   "outputs": [],
   "source": [
    "number_2D_zeros = np.zeros((7, 7))\n",
    "number_2D_zeros"
   ]
  },
  {
   "cell_type": "code",
   "execution_count": 0,
   "metadata": {
    "colab": {},
    "colab_type": "code",
    "id": "iz0P-CrHaPNh"
   },
   "outputs": [],
   "source": [
    "number_1D_range_10 = np.arange(10)\n",
    "number_1D_range_10"
   ]
  },
  {
   "cell_type": "code",
   "execution_count": 0,
   "metadata": {
    "colab": {},
    "colab_type": "code",
    "id": "zUoKMjyEcW1Z"
   },
   "outputs": [],
   "source": [
    "number_2D_random = np.random.random((3,3))\n",
    "number_2D_random"
   ]
  },
  {
   "cell_type": "markdown",
   "metadata": {
    "colab_type": "text",
    "id": "bogCDDH4aZYF"
   },
   "source": [
    "## Truy cập giá trị trong Numpy"
   ]
  },
  {
   "cell_type": "code",
   "execution_count": 0,
   "metadata": {
    "colab": {},
    "colab_type": "code",
    "id": "dvOk7hBxaV3f"
   },
   "outputs": [],
   "source": [
    "number_2D = np.array([\n",
    "    [1, 2, 3, 4, 5, 6, 7],\n",
    "    [8, 9, 4, 5, 8, 9, 0],\n",
    "    [2, 9, 7, 8, 0, 4, 5],\n",
    "    [9, 6, 4, 9, 3, 7, 2],\n",
    "])\n",
    "number_2D"
   ]
  },
  {
   "cell_type": "markdown",
   "metadata": {
    "colab_type": "text",
    "id": "HUlR1VgKbfeE"
   },
   "source": [
    "### Tại một vị trí cụ thể"
   ]
  },
  {
   "cell_type": "code",
   "execution_count": 0,
   "metadata": {
    "colab": {},
    "colab_type": "code",
    "id": "eXsOhWiObevU"
   },
   "outputs": [],
   "source": [
    "number_2D[0][5]"
   ]
  },
  {
   "cell_type": "markdown",
   "metadata": {
    "colab_type": "text",
    "id": "yzOQcAAdanxl"
   },
   "source": [
    "####  Truy cập hàng"
   ]
  },
  {
   "cell_type": "code",
   "execution_count": 0,
   "metadata": {
    "colab": {},
    "colab_type": "code",
    "id": "ORHT1HJzah-k"
   },
   "outputs": [],
   "source": [
    "number_2D[0]"
   ]
  },
  {
   "cell_type": "markdown",
   "metadata": {
    "colab_type": "text",
    "id": "uPl7g64waxfr"
   },
   "source": [
    "#### Truy cập theo cột"
   ]
  },
  {
   "cell_type": "code",
   "execution_count": 0,
   "metadata": {
    "colab": {},
    "colab_type": "code",
    "id": "ClFCy6ehaqKj"
   },
   "outputs": [],
   "source": [
    "number_2D[:, 0]"
   ]
  },
  {
   "cell_type": "markdown",
   "metadata": {
    "colab_type": "text",
    "id": "LCjtHdsKbFHP"
   },
   "source": [
    "#### Truy cập theo ma trận con"
   ]
  },
  {
   "cell_type": "code",
   "execution_count": 0,
   "metadata": {
    "colab": {},
    "colab_type": "code",
    "id": "RcM-LgZ_a2ol"
   },
   "outputs": [],
   "source": [
    "number_2D[1:3, 2:4]"
   ]
  },
  {
   "cell_type": "markdown",
   "metadata": {
    "colab_type": "text",
    "id": "EG4MotFHdQS-"
   },
   "source": [
    "## Phép toán"
   ]
  },
  {
   "cell_type": "code",
   "execution_count": 0,
   "metadata": {
    "colab": {},
    "colab_type": "code",
    "id": "9-6DpgYNc0BH"
   },
   "outputs": [],
   "source": [
    "A = np.array([\n",
    "    [1, 2],\n",
    "    [3, 4]\n",
    "])\n",
    "B = np.array([\n",
    "    [5, 6],\n",
    "    [7, 8]\n",
    "])"
   ]
  },
  {
   "cell_type": "code",
   "execution_count": 0,
   "metadata": {
    "colab": {},
    "colab_type": "code",
    "id": "Vp4vbP3keBPC"
   },
   "outputs": [],
   "source": [
    "print(A + B)\n",
    "print(A - B)\n",
    "print(A * B)\n",
    "print(A / B)"
   ]
  },
  {
   "cell_type": "markdown",
   "metadata": {
    "colab_type": "text",
    "id": "nsfZfuY7eu4q"
   },
   "source": [
    "### Tích vô hướng"
   ]
  },
  {
   "cell_type": "code",
   "execution_count": 0,
   "metadata": {
    "colab": {},
    "colab_type": "code",
    "id": "hdphRcV4eQsK"
   },
   "outputs": [],
   "source": [
    "A.dot(B)"
   ]
  },
  {
   "cell_type": "code",
   "execution_count": 0,
   "metadata": {
    "colab": {},
    "colab_type": "code",
    "id": "qduRNIGDex2O"
   },
   "outputs": [],
   "source": [
    "B.dot(A)"
   ]
  },
  {
   "cell_type": "markdown",
   "metadata": {
    "colab_type": "text",
    "id": "iVxYPeInfZ4q"
   },
   "source": [
    "### Thay đổi shape của mảng"
   ]
  },
  {
   "cell_type": "code",
   "execution_count": 0,
   "metadata": {
    "colab": {},
    "colab_type": "code",
    "id": "thTlSdH2e8CU"
   },
   "outputs": [],
   "source": [
    "numbers_2D = np.array([\n",
    "    [1, 2, 3, 4],\n",
    "    [5, 6, 7, 8]\n",
    "])\n",
    "numbers_2D.shape"
   ]
  },
  {
   "cell_type": "code",
   "execution_count": 0,
   "metadata": {
    "colab": {},
    "colab_type": "code",
    "id": "_dSyKqL-ff1t"
   },
   "outputs": [],
   "source": [
    "numbers_3D = numbers_2D.reshape(2, 2, 2)\n",
    "numbers_3D"
   ]
  },
  {
   "cell_type": "code",
   "execution_count": 0,
   "metadata": {
    "colab": {},
    "colab_type": "code",
    "id": "B9tNH1x_flNM"
   },
   "outputs": [],
   "source": [
    "numbers_3D.shape"
   ]
  },
  {
   "cell_type": "code",
   "execution_count": 0,
   "metadata": {
    "colab": {},
    "colab_type": "code",
    "id": "fMX2b7_1fpNB"
   },
   "outputs": [],
   "source": [
    "number_flat = numbers_2D.flatten()\n",
    "number_flat"
   ]
  },
  {
   "cell_type": "code",
   "execution_count": 0,
   "metadata": {
    "colab": {},
    "colab_type": "code",
    "id": "iav0O_q3f52U"
   },
   "outputs": [],
   "source": [
    "number_flat.reshape(2, 2, 2)"
   ]
  },
  {
   "cell_type": "markdown",
   "metadata": {
    "colab_type": "text",
    "id": "BbmxjJGzghmt"
   },
   "source": [
    "### Phép chuyển vị"
   ]
  },
  {
   "cell_type": "code",
   "execution_count": 0,
   "metadata": {
    "colab": {},
    "colab_type": "code",
    "id": "8ozaeJGcghJ8"
   },
   "outputs": [],
   "source": [
    "numbers_2D = np.array([\n",
    "    [1, 2, 3, 4],\n",
    "    [5, 6, 7, 8]\n",
    "])\n",
    "numbers_2D"
   ]
  },
  {
   "cell_type": "code",
   "execution_count": 0,
   "metadata": {
    "colab": {},
    "colab_type": "code",
    "id": "5sOYQmd8f-cD"
   },
   "outputs": [],
   "source": [
    "numbers_2D.T"
   ]
  },
  {
   "cell_type": "markdown",
   "metadata": {
    "colab_type": "text",
    "id": "RiX6A72-xkV-"
   },
   "source": [
    "### Lọc giá trị trong mảng"
   ]
  },
  {
   "cell_type": "code",
   "execution_count": 0,
   "metadata": {
    "colab": {},
    "colab_type": "code",
    "id": "Il0CKe5qxtgt"
   },
   "outputs": [],
   "source": [
    "a = np.array([[1,2], [3, 4], [5, 6]])"
   ]
  },
  {
   "cell_type": "code",
   "execution_count": 0,
   "metadata": {
    "colab": {},
    "colab_type": "code",
    "id": "J-jOarovxwv8"
   },
   "outputs": [],
   "source": [
    "bool_idx = (a > 2)\n",
    "bool_idx"
   ]
  },
  {
   "cell_type": "code",
   "execution_count": 0,
   "metadata": {
    "colab": {},
    "colab_type": "code",
    "id": "xR0yf42fx5AU"
   },
   "outputs": [],
   "source": [
    "a[bool_idx]"
   ]
  },
  {
   "cell_type": "markdown",
   "metadata": {
    "colab_type": "text",
    "id": "53PtnPgpzDYz"
   },
   "source": [
    "### Phép toán khác"
   ]
  },
  {
   "cell_type": "code",
   "execution_count": 0,
   "metadata": {
    "colab": {},
    "colab_type": "code",
    "id": "46HmBGZxzEPM"
   },
   "outputs": [],
   "source": [
    "a = np.array([1,2,5,80,6,7,8,9,34,1])"
   ]
  },
  {
   "cell_type": "code",
   "execution_count": 0,
   "metadata": {
    "colab": {},
    "colab_type": "code",
    "id": "DEB1-LxtzVQr"
   },
   "outputs": [],
   "source": [
    "np.argmax(a)"
   ]
  },
  {
   "cell_type": "code",
   "execution_count": 0,
   "metadata": {
    "colab": {},
    "colab_type": "code",
    "id": "eGvzXtrfzZ-b"
   },
   "outputs": [],
   "source": [
    "np.sum(a)"
   ]
  },
  {
   "cell_type": "markdown",
   "metadata": {
    "colab_type": "text",
    "id": "9Mn7b_4sg4Bp"
   },
   "source": [
    "## Chú ý về tính chất Broadcasting trong numpy"
   ]
  },
  {
   "cell_type": "markdown",
   "metadata": {
    "colab_type": "text",
    "id": "KdI30rWfhIJi"
   },
   "source": [
    "Boardcasting là một cơ chế cho phép numpy thực hiện phép toán toán học với các mảng có shape khác nhau. \n",
    "\n",
    "\n",
    "![alt text](https://camo.githubusercontent.com/f228c17af4716c6f164ef7c14c690c8fe710388e/68747470733a2f2f6c68332e676f6f676c6575736572636f6e74656e742e636f6d2f76437a6f7a754a52384c6a6b633135704a6d534c7a4b2d59434544546c686250586a4d7575612d2d647151353443686f7a3248764e3948566f676276356d6637305a6e714a31664279694e7570534c355f6f39454d6938574e4c7856567131446957394547664b45646876383736513679465172654d3052306575394c774931766247614f55705043675f3543395f59423769546b635647775279473549584a37486b364452364e6a5a787848483634724e7267636a63367a6170573172615765337568587556483470643679686d6847637a6975746a2d6173356b4b306c315862615369677635547237506f6b774b71614f73705a4b594d34793374484d44624f4359746e4c4d795373656958525f65464c51735a6255633764396d397546505967473172516b5a4378586e39746c706f773239494268702d336f73413671754c7a4749666373595670487230784377456a3467597359795959312d393657516457302d634b59516c704c4831337131437164344533574153727953567841627163544f6c2d4530336b335342326d576e357076634b38662d577a6b313038754c35626847706d76764441454f434a50396f343143436e3845386559764761444f67416a765975647447455a5648506e346f795150593947525876383570586b503971477546694b5556506e7234636e6f6339772d53792d645448775f50534c616c65794d6d36772d6d3635683858676e7342793542774b47364552733641316b4a564466554959433153565169706f4b37776f7441677a426b55304a4d5165485f4e6b6e6d48576e50524a5639615a644a3744635139484c7351524c545472456b7447677a714962496a4e6c537869705a73516a5f4b527535744c41467a557849794c64637a46324f46716c544357556436494b365f746d327779636f5a72673d773433322d683332342d6e6f)"
   ]
  },
  {
   "cell_type": "markdown",
   "metadata": {
    "colab_type": "text",
    "id": "BtK9KoIghqyF"
   },
   "source": [
    "### Mảng một chiều"
   ]
  },
  {
   "cell_type": "code",
   "execution_count": 0,
   "metadata": {
    "colab": {},
    "colab_type": "code",
    "id": "9B4RAXj2g3fr"
   },
   "outputs": [],
   "source": [
    "numbers_1D = np.array([1, 2, 3])\n",
    "numbers_1D"
   ]
  },
  {
   "cell_type": "code",
   "execution_count": 0,
   "metadata": {
    "colab": {},
    "colab_type": "code",
    "id": "o6Q6U0Tkgm3l"
   },
   "outputs": [],
   "source": [
    "numbers_1D + 3"
   ]
  },
  {
   "cell_type": "markdown",
   "metadata": {
    "colab_type": "text",
    "id": "DQVGE6tkjPca"
   },
   "source": []
  },
  {
   "cell_type": "code",
   "execution_count": 0,
   "metadata": {
    "colab": {},
    "colab_type": "code",
    "id": "p-02c1rOjNzx"
   },
   "outputs": [],
   "source": [
    "a = np.arange(3).reshape((3, 1))\n",
    "b = np.arange(3)"
   ]
  },
  {
   "cell_type": "code",
   "execution_count": 0,
   "metadata": {
    "colab": {},
    "colab_type": "code",
    "id": "dBKJM9CvjUO4"
   },
   "outputs": [],
   "source": [
    "print(a)\n",
    "print(b)"
   ]
  },
  {
   "cell_type": "code",
   "execution_count": 0,
   "metadata": {
    "colab": {},
    "colab_type": "code",
    "id": "gLLLQIebjYtU"
   },
   "outputs": [],
   "source": [
    "a + b"
   ]
  },
  {
   "cell_type": "markdown",
   "metadata": {
    "colab_type": "text",
    "id": "OX8Xfq46hvlI"
   },
   "source": [
    "### Mảng hai chiều"
   ]
  },
  {
   "cell_type": "code",
   "execution_count": 0,
   "metadata": {
    "colab": {},
    "colab_type": "code",
    "id": "h4x27DaUhn7b"
   },
   "outputs": [],
   "source": [
    "A = np.asarray([\n",
    "    [4, 5, 6], \n",
    "    [7, 8, 9]\n",
    "])\n",
    "\n",
    "B = np.asarray([\n",
    "    [4], \n",
    "    [7]\n",
    "])"
   ]
  },
  {
   "cell_type": "code",
   "execution_count": 0,
   "metadata": {
    "colab": {},
    "colab_type": "code",
    "id": "apQF3cuKh00F"
   },
   "outputs": [],
   "source": [
    "A * B"
   ]
  },
  {
   "cell_type": "code",
   "execution_count": 0,
   "metadata": {
    "colab": {},
    "colab_type": "code",
    "id": "VK3BGJnnjGIF"
   },
   "outputs": [],
   "source": []
  }
 ],
 "metadata": {
  "colab": {
   "collapsed_sections": [],
   "name": "lec 2 numpy.ipynb",
   "provenance": [],
   "version": "0.3.2"
  },
  "kernelspec": {
   "display_name": "Python 3",
   "language": "python",
   "name": "python3"
  },
  "language_info": {
   "codemirror_mode": {
    "name": "ipython",
    "version": 3
   },
   "file_extension": ".py",
   "mimetype": "text/x-python",
   "name": "python",
   "nbconvert_exporter": "python",
   "pygments_lexer": "ipython3",
   "version": "3.7.3"
  }
 },
 "nbformat": 4,
 "nbformat_minor": 1
}
