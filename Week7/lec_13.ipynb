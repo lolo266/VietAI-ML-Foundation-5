{
 "cells": [
  {
   "cell_type": "code",
   "execution_count": 3,
   "metadata": {
    "colab": {},
    "colab_type": "code",
    "id": "SPOefq-q10mq"
   },
   "outputs": [],
   "source": [
    "import numpy as np"
   ]
  },
  {
   "cell_type": "markdown",
   "metadata": {
    "colab_type": "text",
    "id": "Ivgu9ENB3o-O"
   },
   "source": [
    "## Ôn tập RNN"
   ]
  },
  {
   "cell_type": "code",
   "execution_count": 4,
   "metadata": {
    "colab": {},
    "colab_type": "code",
    "id": "H4zvoTaT2Lja"
   },
   "outputs": [],
   "source": [
    "def cell(input_x, hidden_state):\n",
    "  return np.tanh(input_x * U + hidden_state * W) * V"
   ]
  },
  {
   "cell_type": "code",
   "execution_count": 5,
   "metadata": {
    "colab": {},
    "colab_type": "code",
    "id": "Uf67zzLJ3Bo5"
   },
   "outputs": [
    {
     "name": "stdout",
     "output_type": "stream",
     "text": [
      "0, Input: 0.30, Hidden state: 0.11, Output: 0.00\n",
      "1, Input: 0.10, Hidden state: 0.04, Output: 0.11\n",
      "2, Input: 0.55, Hidden state: 0.20, Output: 0.04\n",
      "3, Input: 0.20, Hidden state: 0.08, Output: 0.20\n",
      "4, Input: 0.70, Hidden state: 0.24, Output: 0.08\n"
     ]
    }
   ],
   "source": [
    "X = np.array([0.3, 0.1, 0.55, 0.2, 0.7])\n",
    "U = 0.75\n",
    "W = 0.1\n",
    "V = 0.5\n",
    "h = 0\n",
    "\n",
    "for index, input_t in enumerate(X):\n",
    "  prevous_h = h\n",
    "  h = output_t = cell(input_t, h)\n",
    "  print(\"{}, Input: {:.2f}, Hidden state: {:.2f}, Output: {:.2f}\".format(index, input_t, output_t, prevous_h))"
   ]
  },
  {
   "cell_type": "markdown",
   "metadata": {
    "colab_type": "text",
    "id": "pxCP30RtFh5X"
   },
   "source": [
    "## LSTM"
   ]
  },
  {
   "cell_type": "markdown",
   "metadata": {
    "colab_type": "text",
    "id": "TU7kh9I1IBgY"
   },
   "source": [
    "### Hadamard (Multiply Element-wise) product vs Dot product"
   ]
  },
  {
   "cell_type": "code",
   "execution_count": 6,
   "metadata": {
    "colab": {},
    "colab_type": "code",
    "id": "g65pc18J3jNg"
   },
   "outputs": [
    {
     "name": "stdout",
     "output_type": "stream",
     "text": [
      "[[1 2]\n",
      " [3 4]]\n",
      "[[0.1 0.9]\n",
      " [0.7 0.3]]\n"
     ]
    }
   ],
   "source": [
    "a = np.array([[1,2], [3,4]])\n",
    "b = np.array([[0.1,0.9], [0.7,0.3]])\n",
    "print(a)\n",
    "print(b)"
   ]
  },
  {
   "cell_type": "code",
   "execution_count": 7,
   "metadata": {
    "colab": {},
    "colab_type": "code",
    "id": "Bu4byqVGFqYG"
   },
   "outputs": [
    {
     "name": "stdout",
     "output_type": "stream",
     "text": [
      "Hadamard product: \n",
      "[[0.1 1.8]\n",
      " [2.1 1.2]]\n",
      "\n",
      "Dot product: \n",
      "[[1.5 1.5]\n",
      " [3.1 3.9]]\n"
     ]
    }
   ],
   "source": [
    "print(\"Hadamard product: \\n{}\\n\".format(np.multiply(a, b)))\n",
    "print(\"Dot product: \\n{}\".format(np.dot(a, b)))"
   ]
  },
  {
   "cell_type": "markdown",
   "metadata": {
    "colab_type": "text",
    "id": "Z7LXnFJnIqTx"
   },
   "source": [
    "### LSTM"
   ]
  },
  {
   "cell_type": "code",
   "execution_count": 8,
   "metadata": {
    "colab": {},
    "colab_type": "code",
    "id": "qOSHvRAnGa0a"
   },
   "outputs": [],
   "source": [
    "x_1 = np.array([[2, 3, -1]])\n",
    "Wf = np.array([[1, -2, 5], [5,5,0]])\n",
    "Uf = np.array([[1,5],[2,1]])\n",
    "Wi = np.array([[0, 2, 5], [3, -4, 1]])\n",
    "Ui = np.array([[-1, -5], [2, 1]])\n",
    "Wo = np.array([[1, 2, 1], [0, -1, 3]])\n",
    "Uo = np.array([[2, 4], [0, 3]])\n",
    "Wc = np.array([[-2, 0, 1], [5, 1, 8]])\n",
    "Uc = np.array([[1, -1], [0, -2]])\n",
    "bi = bo = bf = bc = np.array([[5, 2]])"
   ]
  },
  {
   "cell_type": "code",
   "execution_count": 9,
   "metadata": {
    "colab": {},
    "colab_type": "code",
    "id": "l52IlXgCkBIZ"
   },
   "outputs": [],
   "source": [
    "def sigmoid(x):\n",
    "  return 1 / (1 + np.exp(x))\n",
    "\n",
    "def ft(x_t, h_p_t):\n",
    "  return sigmoid(Wf.dot(x_t.T) + Uf.dot(h_p_t.T) + bf.T).squeeze()\n",
    "\n",
    "def it(x_t, h_p_t):\n",
    "  return sigmoid(Wi.dot(x_t.T) + Ui.dot(h_p_t.T) + bi.T).squeeze()\n",
    "\n",
    "def ot(x_t, h_p_t):\n",
    "  return sigmoid(Wo.dot(x_t.T) + Uo.dot(h_p_t.T) + bo.T).squeeze()\n",
    "\n",
    "def C_hat_t(x_t, h_p_t):\n",
    "  return np.tanh(Wc.dot(x_t.T) + Uc.dot(h_p_t.T) + bc.T).squeeze()"
   ]
  },
  {
   "cell_type": "code",
   "execution_count": 10,
   "metadata": {
    "colab": {},
    "colab_type": "code",
    "id": "2B9IDppHp60b"
   },
   "outputs": [
    {
     "name": "stdout",
     "output_type": "stream",
     "text": [
      "f_1: \n",
      "(2,)\n",
      "\n",
      "i_1: \n",
      "[0.00247262 0.99330715]\n",
      "\n",
      "o_1: \n",
      "[6.1441746e-06 9.8201379e-01]\n",
      "\n"
     ]
    }
   ],
   "source": [
    "h_0 = np.array([[0, 0]])\n",
    "c_0 = np.array([[0, 0]])\n",
    "f_1 = ft(x_1, h_0)\n",
    "i_1 = it(x_1, h_0)\n",
    "o_1 = ot(x_1, h_0)\n",
    "\n",
    "print(\"f_1: \\n{}\\n\".format(f_1.shape))\n",
    "print(\"i_1: \\n{}\\n\".format(i_1))\n",
    "print(\"o_1: \\n{}\\n\".format(o_1))"
   ]
  },
  {
   "cell_type": "code",
   "execution_count": 11,
   "metadata": {
    "colab": {},
    "colab_type": "code",
    "id": "egDzOM5fsKHm"
   },
   "outputs": [
    {
     "name": "stdout",
     "output_type": "stream",
     "text": [
      "C_hat_1: \n",
      "[0.         0.99999834]\n",
      "\n",
      "C_1: \n",
      "[0.        0.9933055]\n",
      "\n",
      "h_1: \n",
      "[0.         0.74512091]\n",
      "\n"
     ]
    }
   ],
   "source": [
    "C_hat_1 = C_hat_t(x_1, h_0)\n",
    "C_1 = np.multiply(f_1, c_0.squeeze()) + np.multiply(i_1, C_hat_1)\n",
    "h_1 = np.multiply(o_1, np.tanh(C_1))\n",
    "print(\"C_hat_1: \\n{}\\n\".format(C_hat_1))\n",
    "print(\"C_1: \\n{}\\n\".format(C_1))\n",
    "print(\"h_1: \\n{}\\n\".format(h_1))"
   ]
  },
  {
   "cell_type": "code",
   "execution_count": 0,
   "metadata": {
    "colab": {},
    "colab_type": "code",
    "id": "evxrxZc-paxN"
   },
   "outputs": [],
   "source": []
  }
 ],
 "metadata": {
  "colab": {
   "collapsed_sections": [],
   "name": "lec_13.ipynb",
   "provenance": []
  },
  "kernelspec": {
   "display_name": "Python 3",
   "language": "python",
   "name": "python3"
  },
  "language_info": {
   "codemirror_mode": {
    "name": "ipython",
    "version": 3
   },
   "file_extension": ".py",
   "mimetype": "text/x-python",
   "name": "python",
   "nbconvert_exporter": "python",
   "pygments_lexer": "ipython3",
   "version": "3.7.3"
  }
 },
 "nbformat": 4,
 "nbformat_minor": 1
}
